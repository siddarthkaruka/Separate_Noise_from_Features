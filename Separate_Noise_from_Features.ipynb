{
 "cells": [
  {
   "cell_type": "markdown",
   "metadata": {},
   "source": [
    "## Separate noise from features\n",
    "\n",
    "The file  𝚖𝚢𝚜𝚝𝚎𝚛𝚢.𝚍𝚊𝚝  contains pairs  (𝑥,𝑦) , where  𝑥∈ℝ$^{100}$  and  𝑦∈ℝ . There is one data point per line, with comma-separated values; the very last number in each line is the  𝑦 -value.\n",
    "\n",
    "In this data set,  𝑦  is a linear function of just ten of the features in  𝑥 , plus some noise. The problem is to identify those ten features."
   ]
  },
  {
   "cell_type": "code",
   "execution_count": 1,
   "metadata": {},
   "outputs": [],
   "source": [
    "import numpy as np\n",
    "import pandas as pd"
   ]
  },
  {
   "cell_type": "code",
   "execution_count": 2,
   "metadata": {},
   "outputs": [
    {
     "data": {
      "text/html": [
       "<div>\n",
       "<style scoped>\n",
       "    .dataframe tbody tr th:only-of-type {\n",
       "        vertical-align: middle;\n",
       "    }\n",
       "\n",
       "    .dataframe tbody tr th {\n",
       "        vertical-align: top;\n",
       "    }\n",
       "\n",
       "    .dataframe thead th {\n",
       "        text-align: right;\n",
       "    }\n",
       "</style>\n",
       "<table border=\"1\" class=\"dataframe\">\n",
       "  <thead>\n",
       "    <tr style=\"text-align: right;\">\n",
       "      <th></th>\n",
       "      <th>0</th>\n",
       "      <th>1</th>\n",
       "      <th>2</th>\n",
       "      <th>3</th>\n",
       "      <th>4</th>\n",
       "      <th>5</th>\n",
       "      <th>6</th>\n",
       "      <th>7</th>\n",
       "      <th>8</th>\n",
       "      <th>9</th>\n",
       "      <th>...</th>\n",
       "      <th>91</th>\n",
       "      <th>92</th>\n",
       "      <th>93</th>\n",
       "      <th>94</th>\n",
       "      <th>95</th>\n",
       "      <th>96</th>\n",
       "      <th>97</th>\n",
       "      <th>98</th>\n",
       "      <th>99</th>\n",
       "      <th>100</th>\n",
       "    </tr>\n",
       "  </thead>\n",
       "  <tbody>\n",
       "    <tr>\n",
       "      <th>0</th>\n",
       "      <td>-1.14558</td>\n",
       "      <td>-1.29249</td>\n",
       "      <td>0.84911</td>\n",
       "      <td>0.36008</td>\n",
       "      <td>0.26068</td>\n",
       "      <td>2.51167</td>\n",
       "      <td>2.31855</td>\n",
       "      <td>0.60805</td>\n",
       "      <td>0.34280</td>\n",
       "      <td>-0.28903</td>\n",
       "      <td>...</td>\n",
       "      <td>0.16212</td>\n",
       "      <td>-0.60644</td>\n",
       "      <td>1.57021</td>\n",
       "      <td>-1.40166</td>\n",
       "      <td>-0.65263</td>\n",
       "      <td>-0.08357</td>\n",
       "      <td>0.78098</td>\n",
       "      <td>1.55320</td>\n",
       "      <td>-1.42135</td>\n",
       "      <td>1.19238</td>\n",
       "    </tr>\n",
       "    <tr>\n",
       "      <th>1</th>\n",
       "      <td>1.38724</td>\n",
       "      <td>-1.00201</td>\n",
       "      <td>-0.33370</td>\n",
       "      <td>0.32802</td>\n",
       "      <td>0.15860</td>\n",
       "      <td>-0.57060</td>\n",
       "      <td>-0.05989</td>\n",
       "      <td>0.91503</td>\n",
       "      <td>0.00859</td>\n",
       "      <td>-2.01566</td>\n",
       "      <td>...</td>\n",
       "      <td>-0.07138</td>\n",
       "      <td>-0.12137</td>\n",
       "      <td>1.20241</td>\n",
       "      <td>-2.84456</td>\n",
       "      <td>-1.17875</td>\n",
       "      <td>0.04490</td>\n",
       "      <td>0.59131</td>\n",
       "      <td>0.81903</td>\n",
       "      <td>0.39286</td>\n",
       "      <td>-3.44094</td>\n",
       "    </tr>\n",
       "    <tr>\n",
       "      <th>2</th>\n",
       "      <td>1.47233</td>\n",
       "      <td>0.84880</td>\n",
       "      <td>-0.33866</td>\n",
       "      <td>-0.45366</td>\n",
       "      <td>0.98590</td>\n",
       "      <td>1.31009</td>\n",
       "      <td>-0.71319</td>\n",
       "      <td>-0.03236</td>\n",
       "      <td>-0.38447</td>\n",
       "      <td>0.72138</td>\n",
       "      <td>...</td>\n",
       "      <td>-0.62333</td>\n",
       "      <td>1.74732</td>\n",
       "      <td>0.06279</td>\n",
       "      <td>0.62084</td>\n",
       "      <td>-0.99350</td>\n",
       "      <td>-0.10799</td>\n",
       "      <td>-0.87872</td>\n",
       "      <td>0.08911</td>\n",
       "      <td>-1.72476</td>\n",
       "      <td>3.75006</td>\n",
       "    </tr>\n",
       "    <tr>\n",
       "      <th>3</th>\n",
       "      <td>-1.34050</td>\n",
       "      <td>-0.90731</td>\n",
       "      <td>2.07849</td>\n",
       "      <td>-1.18061</td>\n",
       "      <td>-3.23561</td>\n",
       "      <td>0.37517</td>\n",
       "      <td>-0.05829</td>\n",
       "      <td>0.38018</td>\n",
       "      <td>2.28377</td>\n",
       "      <td>0.18249</td>\n",
       "      <td>...</td>\n",
       "      <td>-0.51360</td>\n",
       "      <td>-0.95735</td>\n",
       "      <td>0.91067</td>\n",
       "      <td>-0.36184</td>\n",
       "      <td>0.36378</td>\n",
       "      <td>2.13123</td>\n",
       "      <td>0.00686</td>\n",
       "      <td>0.68222</td>\n",
       "      <td>0.79878</td>\n",
       "      <td>-8.60734</td>\n",
       "    </tr>\n",
       "    <tr>\n",
       "      <th>4</th>\n",
       "      <td>0.11286</td>\n",
       "      <td>-0.72004</td>\n",
       "      <td>0.04818</td>\n",
       "      <td>0.34493</td>\n",
       "      <td>0.49831</td>\n",
       "      <td>0.10448</td>\n",
       "      <td>0.37044</td>\n",
       "      <td>-1.46027</td>\n",
       "      <td>0.77638</td>\n",
       "      <td>-1.95510</td>\n",
       "      <td>...</td>\n",
       "      <td>0.25205</td>\n",
       "      <td>1.25199</td>\n",
       "      <td>-0.19591</td>\n",
       "      <td>0.44213</td>\n",
       "      <td>-2.14802</td>\n",
       "      <td>-1.96095</td>\n",
       "      <td>-0.95680</td>\n",
       "      <td>1.07276</td>\n",
       "      <td>0.28898</td>\n",
       "      <td>0.28307</td>\n",
       "    </tr>\n",
       "  </tbody>\n",
       "</table>\n",
       "<p>5 rows × 101 columns</p>\n",
       "</div>"
      ],
      "text/plain": [
       "       0        1        2        3        4        5        6        7    \\\n",
       "0 -1.14558 -1.29249  0.84911  0.36008  0.26068  2.51167  2.31855  0.60805   \n",
       "1  1.38724 -1.00201 -0.33370  0.32802  0.15860 -0.57060 -0.05989  0.91503   \n",
       "2  1.47233  0.84880 -0.33866 -0.45366  0.98590  1.31009 -0.71319 -0.03236   \n",
       "3 -1.34050 -0.90731  2.07849 -1.18061 -3.23561  0.37517 -0.05829  0.38018   \n",
       "4  0.11286 -0.72004  0.04818  0.34493  0.49831  0.10448  0.37044 -1.46027   \n",
       "\n",
       "       8        9     ...         91       92       93       94       95   \\\n",
       "0  0.34280 -0.28903   ...     0.16212 -0.60644  1.57021 -1.40166 -0.65263   \n",
       "1  0.00859 -2.01566   ...    -0.07138 -0.12137  1.20241 -2.84456 -1.17875   \n",
       "2 -0.38447  0.72138   ...    -0.62333  1.74732  0.06279  0.62084 -0.99350   \n",
       "3  2.28377  0.18249   ...    -0.51360 -0.95735  0.91067 -0.36184  0.36378   \n",
       "4  0.77638 -1.95510   ...     0.25205  1.25199 -0.19591  0.44213 -2.14802   \n",
       "\n",
       "       96       97       98       99       100  \n",
       "0 -0.08357  0.78098  1.55320 -1.42135  1.19238  \n",
       "1  0.04490  0.59131  0.81903  0.39286 -3.44094  \n",
       "2 -0.10799 -0.87872  0.08911 -1.72476  3.75006  \n",
       "3  2.13123  0.00686  0.68222  0.79878 -8.60734  \n",
       "4 -1.96095 -0.95680  1.07276  0.28898  0.28307  \n",
       "\n",
       "[5 rows x 101 columns]"
      ]
     },
     "execution_count": 2,
     "metadata": {},
     "output_type": "execute_result"
    }
   ],
   "source": [
    "data=pd.read_csv('./mystery.dat', sep = ',',header=None)\n",
    "data.head()"
   ]
  },
  {
   "cell_type": "markdown",
   "metadata": {},
   "source": [
    "---\n",
    "Since 𝑦 is linear function of 𝑥, I'll use regularization to extract the most important features, which should ideally separate the noise from features"
   ]
  },
  {
   "cell_type": "code",
   "execution_count": 3,
   "metadata": {},
   "outputs": [],
   "source": [
    "from sklearn.linear_model import Lasso"
   ]
  },
  {
   "cell_type": "code",
   "execution_count": 4,
   "metadata": {},
   "outputs": [
    {
     "name": "stdout",
     "output_type": "stream",
     "text": [
      "Number of features used: 4\n"
     ]
    }
   ],
   "source": [
    "lasso1=Lasso().fit(data.iloc[:,:100].values,data.iloc[:,100].values)\n",
    "print(\"Number of features used: {}\".format(np.sum(lasso1.coef_ != 0)))"
   ]
  },
  {
   "cell_type": "code",
   "execution_count": 5,
   "metadata": {},
   "outputs": [
    {
     "name": "stdout",
     "output_type": "stream",
     "text": [
      "Number of features used: 4\n",
      "Number of features used: 8\n",
      "Number of features used: 8\n",
      "Number of features used: 9\n",
      "Number of features used: 11\n"
     ]
    }
   ],
   "source": [
    "for i in [1., 0.8, 0.7, 0.6, 0.5]:\n",
    "    lasso=Lasso(alpha=i).fit(data.iloc[:,:100].values,data.iloc[:,100].values)\n",
    "    print(\"Number of features used: {}\".format(np.sum(lasso.coef_ != 0)))"
   ]
  },
  {
   "cell_type": "code",
   "execution_count": 6,
   "metadata": {},
   "outputs": [
    {
     "name": "stdout",
     "output_type": "stream",
     "text": [
      "Number of features used: 9\n",
      "Number of features used: 11\n",
      "Number of features used: 11\n",
      "Number of features used: 11\n",
      "Number of features used: 11\n"
     ]
    }
   ],
   "source": [
    "for i in [0.6, 0.575, 0.55, 0.525, 0.5]:\n",
    "    lasso=Lasso(alpha=i).fit(data.iloc[:,:100].values,data.iloc[:,100].values)\n",
    "    print(\"Number of features used: {}\".format(np.sum(lasso.coef_ != 0)))"
   ]
  },
  {
   "cell_type": "code",
   "execution_count": 7,
   "metadata": {},
   "outputs": [
    {
     "name": "stdout",
     "output_type": "stream",
     "text": [
      "Number of features used: 9\n",
      "Number of features used: 10\n",
      "Number of features used: 10\n",
      "Number of features used: 11\n"
     ]
    }
   ],
   "source": [
    "for i in [0.6,0.59,0.58, 0.57]:\n",
    "    lasso=Lasso(alpha=i).fit(data.iloc[:,:100].values,data.iloc[:,100].values)\n",
    "    print(\"Number of features used: {}\".format(np.sum(lasso.coef_ != 0)))"
   ]
  },
  {
   "cell_type": "code",
   "execution_count": 8,
   "metadata": {},
   "outputs": [
    {
     "name": "stdout",
     "output_type": "stream",
     "text": [
      "Number of features used: 10\n"
     ]
    }
   ],
   "source": [
    "lasso=Lasso(alpha=0.59).fit(data.iloc[:,:100].values,data.iloc[:,100].values)\n",
    "print(\"Number of features used: {}\".format(np.sum(lasso.coef_ != 0)))"
   ]
  },
  {
   "cell_type": "code",
   "execution_count": 9,
   "metadata": {},
   "outputs": [
    {
     "data": {
      "text/plain": [
       "array([ 0.        ,  0.10299376,  0.00652474,  0.        ,  0.2893491 ,\n",
       "       -0.        ,  0.29522954, -0.        , -0.        , -0.        ,\n",
       "        0.42515876, -0.        ,  0.25173601,  0.        , -0.        ,\n",
       "       -0.        ,  0.56205934, -0.        ,  0.39238243,  0.        ,\n",
       "        0.        , -0.        ,  0.40961863,  0.        , -0.        ,\n",
       "       -0.        , -0.        ,  0.        ,  0.        ,  0.        ,\n",
       "       -0.        ,  0.        ,  0.        , -0.        , -0.        ,\n",
       "       -0.        , -0.        ,  0.        , -0.        ,  0.        ,\n",
       "       -0.        ,  0.        , -0.        , -0.        ,  0.        ,\n",
       "       -0.        , -0.        , -0.        ,  0.        ,  0.        ,\n",
       "       -0.        ,  0.        ,  0.        ,  0.        , -0.        ,\n",
       "        0.        , -0.        , -0.        ,  0.        ,  0.        ,\n",
       "        0.        ,  0.        ,  0.        , -0.        , -0.        ,\n",
       "        0.        , -0.        , -0.        ,  0.        ,  0.        ,\n",
       "        0.        ,  0.        ,  0.        ,  0.        ,  0.        ,\n",
       "        0.        , -0.        ,  0.        , -0.        , -0.        ,\n",
       "        0.09526577, -0.        , -0.        , -0.        , -0.        ,\n",
       "       -0.        , -0.        ,  0.        , -0.        , -0.        ,\n",
       "        0.        ,  0.        ,  0.        ,  0.        ,  0.        ,\n",
       "        0.        , -0.        ,  0.        , -0.        ,  0.        ])"
      ]
     },
     "execution_count": 9,
     "metadata": {},
     "output_type": "execute_result"
    }
   ],
   "source": [
    "np.array(lasso.coef_)"
   ]
  },
  {
   "cell_type": "code",
   "execution_count": 10,
   "metadata": {},
   "outputs": [
    {
     "data": {
      "text/plain": [
       "array([ 17,  11,  23,  19,   7,   5,  13,   2,  81,   3,  68,  69,   1,\n",
       "        67,  72,  73,  74,  70,  71,  65,  75,  64,  63,  62,  61,  60,\n",
       "        59,  58,  57,  66,  76,  82,  78,  98,  97,  96,  95,  94,  93,\n",
       "        92,  91,  90,  89,  88,  87,  86,  85,  84,  83,  56,  80,  79,\n",
       "        77,  55,  50,  53,  29,  28,  27,  26,  25,  24,  22,  21,  20,\n",
       "        18,  16,  15,  14,  12,  10,   9,   8,   6,   4,  30,  54,  31,\n",
       "        33,  52,  51,  99,  49,  48,  47,  46,  45,  44,  43,  42,  41,\n",
       "        40,  39,  38,  37,  36,  35,  34,  32, 100])"
      ]
     },
     "execution_count": 10,
     "metadata": {},
     "output_type": "execute_result"
    }
   ],
   "source": [
    "np.array(-lasso.coef_).argsort()+1"
   ]
  },
  {
   "cell_type": "code",
   "execution_count": 11,
   "metadata": {},
   "outputs": [
    {
     "name": "stdout",
     "output_type": "stream",
     "text": [
      "Indices that aren't noise: [2, 3, 5, 7, 11, 13, 17, 19, 23, 81]\n"
     ]
    }
   ],
   "source": [
    "features=[count+1 for count, elem in enumerate(lasso.coef_) if elem != 0]\n",
    "print(\"Indices that aren't noise: {}\".format(features))"
   ]
  }
 ],
 "metadata": {
  "kernelspec": {
   "display_name": "Python 3",
   "language": "python",
   "name": "python3"
  },
  "language_info": {
   "codemirror_mode": {
    "name": "ipython",
    "version": 3
   },
   "file_extension": ".py",
   "mimetype": "text/x-python",
   "name": "python",
   "nbconvert_exporter": "python",
   "pygments_lexer": "ipython3",
   "version": "3.7.1"
  }
 },
 "nbformat": 4,
 "nbformat_minor": 2
}
